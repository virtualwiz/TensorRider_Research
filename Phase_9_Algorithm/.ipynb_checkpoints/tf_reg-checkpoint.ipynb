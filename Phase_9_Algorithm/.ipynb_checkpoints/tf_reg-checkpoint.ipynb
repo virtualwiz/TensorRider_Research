{
 "cells": [
  {
   "cell_type": "markdown",
   "metadata": {},
   "source": [
    "# TensorRider Algorithm\n",
    "Building regression model with TensorFlow's native APIs."
   ]
  },
  {
   "cell_type": "code",
   "execution_count": 1,
   "metadata": {},
   "outputs": [],
   "source": [
    "import numpy as np\n",
    "from matplotlib import pyplot as plt\n",
    "import tensorflow as tf\n",
    "\n",
    "BATCH_SIZE = 256\n",
    "EPOCHS = 300\n",
    "\n",
    "# def imgPreprocess(rgb):\n",
    "#     r, g, b = rgb[:,:,0], rgb[:,:,1], rgb[:,:,2]\n",
    "#     # tgt = 0.2989 * r + 0.5870 * g + 0.1140 * b\n",
    "#     tgt = 0.5 * r + 0.25 * g + 0.25 * b\n",
    "#     return tgt"
   ]
  },
  {
   "cell_type": "markdown",
   "metadata": {},
   "source": [
    "# Prepare"
   ]
  },
  {
   "cell_type": "code",
   "execution_count": 2,
   "metadata": {},
   "outputs": [],
   "source": [
    "def decode(serialized_example):\n",
    "    \n",
    "    features = tf.parse_single_example(\n",
    "            serialized_example,\n",
    "            features={\n",
    "                    'image': tf.FixedLenFeature([], tf.string),\n",
    "                    'label': tf.FixedLenFeature([], tf.int64),\n",
    "            })\n",
    "\n",
    "    image = tf.decode_raw(features['image'], tf.uint8)\n",
    "    image.set_shape((4800))\n",
    "\n",
    "    label = tf.cast(features['label'], tf.int32)\n",
    "    \n",
    "    return image, label\n",
    "\n",
    "\n",
    "def normalize(image, label):\n",
    "    image = tf.cast(image, tf.float32) * (1. / 255) - 0.5\n",
    "    return image, label\n",
    "\n",
    "def inputs(file, batch_size, num_epochs):\n",
    "\n",
    "    filename = file + '.tfrecords'\n",
    "\n",
    "    with tf.name_scope('input'):\n",
    "        \n",
    "        dataset = tf.data.TFRecordDataset(filename)\n",
    "\n",
    "        dataset = dataset.map(decode)\n",
    "        dataset = dataset.map(normalize)\n",
    "\n",
    "        dataset = dataset.shuffle(1000 + 3 * batch_size)\n",
    "\n",
    "        dataset = dataset.repeat(num_epochs)\n",
    "        dataset = dataset.batch(batch_size)\n",
    "\n",
    "        iterator = dataset.make_one_shot_iterator()\n",
    "        x, y = iterator.get_next()\n",
    "        x = tf.reshape(x, [BATCH_SIZE, 14400])\n",
    "        y = tf.reshape(y, [BATCH_SIZE, 1])\n",
    "        \n",
    "    return x, y"
   ]
  },
  {
   "cell_type": "code",
   "execution_count": 3,
   "metadata": {},
   "outputs": [
    {
     "name": "stdout",
     "output_type": "stream",
     "text": [
      "Tensor(\"Shape:0\", shape=(2,), dtype=int32)\n",
      "Tensor(\"Shape_1:0\", shape=(2,), dtype=int32)\n",
      "(256, 14400)\n",
      "(256, 1)\n"
     ]
    }
   ],
   "source": [
    "sess = tf.InteractiveSession()\n",
    "x, y = inputs('train', BATCH_SIZE, EPOCHS)\n",
    "print(tf.shape(x))\n",
    "print(tf.shape(y))\n",
    "print(tf.Tensor.get_shape(x))\n",
    "print(tf.Tensor.get_shape(y))\n",
    "# print(sess.run(x))\n",
    "# print(sess.run(y))"
   ]
  },
  {
   "cell_type": "code",
   "execution_count": 4,
   "metadata": {},
   "outputs": [],
   "source": [
    "ximg = np.array(sess.run(x))"
   ]
  },
  {
   "cell_type": "code",
   "execution_count": 9,
   "metadata": {},
   "outputs": [
    {
     "name": "stdout",
     "output_type": "stream",
     "text": [
      "(256, 30, 160, 3)\n"
     ]
    },
    {
     "data": {
      "text/plain": [
       "<matplotlib.image.AxesImage at 0x193a8e286a0>"
      ]
     },
     "execution_count": 9,
     "metadata": {},
     "output_type": "execute_result"
    },
    {
     "data": {
      "image/png": "[encoded data removed]",
      "text/plain": [
       "<Figure size 432x288 with 1 Axes>"
      ]
     },
     "metadata": {},
     "output_type": "display_data"
    }
   ],
   "source": [
    "print(ximg.shape)\n",
    "ximg = ximg.reshape((BATCH_SIZE, 60, 80, 3))\n",
    "plt.imshow(ximg[0,:,:,:])"
   ]
  },
  {
   "cell_type": "markdown",
   "metadata": {},
   "source": [
    "# Define the Dense Layers"
   ]
  },
  {
   "cell_type": "code",
   "execution_count": 3,
   "metadata": {},
   "outputs": [],
   "source": [
    "x = tf.placeholder(tf.float32, [None, 14400])\n",
    "W = tf.Variable(tf.zeros([14400, 1]))\n",
    "b = tf.Variable(tf.zeros([1]))\n",
    "y = tf.matmul(x, W) + b\n",
    "\n",
    "y_ = tf.placeholder(tf.float32, [None, 1])\n",
    "\n",
    "msqr = tf.reduce_mean(tf.losses.mean_squared_error(y, y_))\n",
    "train_step = tf.train.GradientDescentOptimizer(0.5).minimize(msqr)"
   ]
  },
  {
   "cell_type": "markdown",
   "metadata": {},
   "source": [
    "# Train"
   ]
  },
  {
   "cell_type": "code",
   "execution_count": 4,
   "metadata": {},
   "outputs": [
    {
     "ename": "TypeError",
     "evalue": "'NoneType' object is not iterable",
     "output_type": "error",
     "traceback": [
      "\u001b[1;31m---------------------------------------------------------------------------\u001b[0m",
      "\u001b[1;31mTypeError\u001b[0m                                 Traceback (most recent call last)",
      "\u001b[1;32m<ipython-input-4-c487e0c96aeb>\u001b[0m in \u001b[0;36m<module>\u001b[1;34m()\u001b[0m\n\u001b[0;32m      9\u001b[0m     \u001b[0mbatch_ys\u001b[0m \u001b[1;33m=\u001b[0m \u001b[0mtf\u001b[0m\u001b[1;33m.\u001b[0m\u001b[0mreshape\u001b[0m\u001b[1;33m(\u001b[0m\u001b[0mbatch_ys\u001b[0m\u001b[1;33m,\u001b[0m \u001b[1;33m[\u001b[0m\u001b[0mBATCH_SIZE\u001b[0m\u001b[1;33m,\u001b[0m \u001b[1;36m1\u001b[0m\u001b[1;33m]\u001b[0m\u001b[1;33m)\u001b[0m\u001b[1;33m\u001b[0m\u001b[0m\n\u001b[0;32m     10\u001b[0m     \u001b[0mbatch_xs\u001b[0m\u001b[1;33m,\u001b[0m \u001b[0mbatch_ys\u001b[0m \u001b[1;33m=\u001b[0m \u001b[0msess\u001b[0m\u001b[1;33m.\u001b[0m\u001b[0mrun\u001b[0m\u001b[1;33m(\u001b[0m\u001b[1;33m[\u001b[0m\u001b[0mbatch_xs\u001b[0m\u001b[1;33m,\u001b[0m \u001b[0mbatch_ys\u001b[0m\u001b[1;33m]\u001b[0m\u001b[1;33m)\u001b[0m\u001b[1;33m\u001b[0m\u001b[0m\n\u001b[1;32m---> 11\u001b[1;33m     \u001b[0m_\u001b[0m\u001b[1;33m,\u001b[0m \u001b[0merror\u001b[0m \u001b[1;33m=\u001b[0m \u001b[0msess\u001b[0m\u001b[1;33m.\u001b[0m\u001b[0mrun\u001b[0m\u001b[1;33m(\u001b[0m\u001b[0mtrain_step\u001b[0m\u001b[1;33m,\u001b[0m \u001b[0mfeed_dict\u001b[0m\u001b[1;33m=\u001b[0m\u001b[1;33m{\u001b[0m\u001b[0mx\u001b[0m\u001b[1;33m:\u001b[0m\u001b[0mbatch_xs\u001b[0m\u001b[1;33m,\u001b[0m \u001b[0my_\u001b[0m\u001b[1;33m:\u001b[0m\u001b[0mbatch_ys\u001b[0m\u001b[1;33m}\u001b[0m\u001b[1;33m)\u001b[0m\u001b[1;33m\u001b[0m\u001b[0m\n\u001b[0m\u001b[0;32m     12\u001b[0m     \u001b[0mprint\u001b[0m\u001b[1;33m(\u001b[0m\u001b[0m_\u001b[0m\u001b[1;33m,\u001b[0m\u001b[0merror\u001b[0m\u001b[1;33m)\u001b[0m\u001b[1;33m\u001b[0m\u001b[0m\n",
      "\u001b[1;31mTypeError\u001b[0m: 'NoneType' object is not iterable"
     ]
    }
   ],
   "source": [
    "sess = tf.InteractiveSession()\n",
    "init_op = tf.group(tf.global_variables_initializer(),\n",
    "                                     tf.local_variables_initializer())\n",
    "sess.run(init_op)\n",
    "\n",
    "for _ in range(EPOCHS):\n",
    "    batch_xs, batch_ys = inputs(file='train', batch_size=BATCH_SIZE, num_epochs=EPOCHS)\n",
    "    batch_xs = tf.reshape(batch_xs, [BATCH_SIZE, 14400])\n",
    "    batch_ys = tf.reshape(batch_ys, [BATCH_SIZE, 1])\n",
    "    batch_xs, batch_ys = sess.run([batch_xs, batch_ys])\n",
    "    _, error = sess.run(train_step, feed_dict={x:batch_xs, y_:batch_ys})\n",
    "    print(_,error)"
   ]
  },
  {
   "cell_type": "code",
   "execution_count": null,
   "metadata": {},
   "outputs": [],
   "source": []
  },
  {
   "cell_type": "code",
   "execution_count": null,
   "metadata": {},
   "outputs": [],
   "source": []
  }
 ],
 "metadata": {
  "kernelspec": {
   "display_name": "Python 3",
   "language": "python",
   "name": "python3"
  },
  "language_info": {
   "codemirror_mode": {
    "name": "ipython",
    "version": 3
   },
   "file_extension": ".py",
   "mimetype": "text/x-python",
   "name": "python",
   "nbconvert_exporter": "python",
   "pygments_lexer": "ipython3",
   "version": "3.5.5"
  }
 },
 "nbformat": 4,
 "nbformat_minor": 2
}
